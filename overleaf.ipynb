{
 "cells": [
  {
   "cell_type": "markdown",
   "metadata": {},
   "source": [
    "## Here is the markdown bit\n",
    "\n",
    "The plan is to write and weave in code and markdown text, add bibliography and convert everything to latex and push it to the Overleaf for final processing. This ipynb notebook also will live in github and we can write or convert it whenever we like. Do I have to download it as markdown and then add an extrastep of pandoc or can I just convert the ipynb notebook to latex using nbconvert command? Yes, we can.\n",
    "\n",
    "```nbconvert --to latex overleaf.ipynb```\n"
   ]
  },
  {
   "cell_type": "code",
   "execution_count": null,
   "metadata": {
    "collapsed": true
   },
   "outputs": [],
   "source": []
  }
 ],
 "metadata": {
  "kernelspec": {
   "display_name": "R",
   "language": "R",
   "name": "ir"
  },
  "language_info": {
   "codemirror_mode": "r",
   "file_extension": ".r",
   "mimetype": "text/x-r-source",
   "name": "R",
   "pygments_lexer": "r",
   "version": "3.3.0"
  }
 },
 "nbformat": 4,
 "nbformat_minor": 0
}
